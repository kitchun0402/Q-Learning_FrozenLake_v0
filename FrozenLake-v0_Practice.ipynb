{
 "cells": [
  {
   "cell_type": "code",
   "execution_count": 1,
   "metadata": {},
   "outputs": [],
   "source": [
    "import gym\n",
    "import pandas as pd\n",
    "import numpy as np\n",
    "import random\n",
    "from time import sleep\n",
    "from itertools import combinations\n",
    "from matplotlib import pyplot as plt\n",
    "import seaborn as sns\n",
    "from IPython.display import clear_output\n",
    "%matplotlib inline"
   ]
  },
  {
   "cell_type": "code",
   "execution_count": 2,
   "metadata": {},
   "outputs": [],
   "source": [
    "random.seed(100)\n",
    "env = gym.make('FrozenLake-v0')\n",
    "env = env.unwrapped"
   ]
  },
  {
   "cell_type": "code",
   "execution_count": 3,
   "metadata": {},
   "outputs": [
    {
     "name": "stdout",
     "output_type": "stream",
     "text": [
      "\n",
      "\u001b[41mS\u001b[0mFFF\n",
      "FHFH\n",
      "FFFH\n",
      "HFFG\n"
     ]
    }
   ],
   "source": [
    "env.render()"
   ]
  },
  {
   "cell_type": "markdown",
   "metadata": {},
   "source": [
    "Action - 0: Left, 1: Down, 2: Right, 3: Up"
   ]
  },
  {
   "cell_type": "code",
   "execution_count": 4,
   "metadata": {},
   "outputs": [
    {
     "name": "stdout",
     "output_type": "stream",
     "text": [
      "(16, 4)\n"
     ]
    }
   ],
   "source": [
    "state = env.observation_space.n\n",
    "action = env.action_space.n\n",
    "print((state, action))"
   ]
  },
  {
   "cell_type": "code",
   "execution_count": 5,
   "metadata": {},
   "outputs": [
    {
     "data": {
      "text/plain": [
       "array([[0., 0., 0., 0.],\n",
       "       [0., 0., 0., 0.],\n",
       "       [0., 0., 0., 0.],\n",
       "       [0., 0., 0., 0.],\n",
       "       [0., 0., 0., 0.],\n",
       "       [0., 0., 0., 0.],\n",
       "       [0., 0., 0., 0.],\n",
       "       [0., 0., 0., 0.],\n",
       "       [0., 0., 0., 0.],\n",
       "       [0., 0., 0., 0.],\n",
       "       [0., 0., 0., 0.],\n",
       "       [0., 0., 0., 0.],\n",
       "       [0., 0., 0., 0.],\n",
       "       [0., 0., 0., 0.],\n",
       "       [0., 0., 0., 0.],\n",
       "       [0., 0., 0., 0.]])"
      ]
     },
     "execution_count": 5,
     "metadata": {},
     "output_type": "execute_result"
    }
   ],
   "source": [
    "q_table_actual = np.zeros([state, action])\n",
    "q_table_actual"
   ]
  },
  {
   "cell_type": "code",
   "execution_count": 6,
   "metadata": {},
   "outputs": [],
   "source": [
    "total_episodes = 10000\n",
    "total_test_episodes = 10\n",
    "max_steps = 300\n",
    "\n",
    "learning_rate = [0.1]\n",
    "gamma = [0.99]\n",
    "learning_rate, gamma = np.meshgrid(learning_rate, gamma)\n",
    "combinations = np.c_[learning_rate.ravel(),gamma.ravel()]\n",
    "\n",
    "epsilon = 1\n",
    "max_epsilon = 1\n",
    "min_epsilon = 0.01\n",
    "decay_rate = 0.001"
   ]
  },
  {
   "cell_type": "code",
   "execution_count": 7,
   "metadata": {
    "scrolled": true
   },
   "outputs": [
    {
     "data": {
      "text/plain": [
       "array([[0., 0., 0., 0.],\n",
       "       [0., 0., 0., 0.],\n",
       "       [0., 0., 0., 0.],\n",
       "       [0., 0., 0., 0.],\n",
       "       [0., 0., 0., 0.],\n",
       "       [0., 0., 0., 0.],\n",
       "       [0., 0., 0., 0.],\n",
       "       [0., 0., 0., 0.],\n",
       "       [0., 0., 0., 0.],\n",
       "       [0., 0., 0., 0.],\n",
       "       [0., 0., 0., 0.],\n",
       "       [0., 0., 0., 0.],\n",
       "       [0., 0., 0., 0.],\n",
       "       [0., 0., 0., 0.],\n",
       "       [0., 0., 0., 0.],\n",
       "       [0., 0., 0., 0.]])"
      ]
     },
     "metadata": {},
     "output_type": "display_data"
    },
    {
     "name": "stdout",
     "output_type": "stream",
     "text": [
      "\n",
      "Learning rate: 0.1, Discount Rate: 0.99\n",
      "\n",
      "1000: 0.046\n",
      "2000: 0.205\n",
      "3000: 0.416\n",
      "4000: 0.603\n",
      "5000: 0.662\n",
      "6000: 0.737\n",
      "7000: 0.737\n",
      "8000: 0.744\n",
      "9000: 0.747\n",
      "10000: 0.747\n"
     ]
    }
   ],
   "source": [
    "final_result = []\n",
    "check = []\n",
    "#tune learning rate and gamma\n",
    "for lr, dr in combinations:\n",
    "    state = env.observation_space.n\n",
    "    action = env.action_space.n\n",
    "    q_table = np.zeros([state, action])\n",
    "    epsilon = 1\n",
    "    #to check if the q_table is empty\n",
    "    display(q_table)\n",
    "    reward_for_all_episodes = []\n",
    "\n",
    "    for episode in range(total_episodes):\n",
    "        state = env.reset()\n",
    "        done = False\n",
    "        step = 0\n",
    "        total_reward = 0\n",
    "        for step in range(max_steps):\n",
    "            random_value = random.uniform(0,1)\n",
    "            if random_value > epsilon:\n",
    "                action = np.argmax(q_table[state])\n",
    "            else:\n",
    "                action = env.action_space.sample()\n",
    "            next_state, reward, done, info = env.step(action)\n",
    "\n",
    "            #capture actual reward\n",
    "            total_reward += reward\n",
    "            #update q_table\n",
    "            q_table[state, action] = q_table[state, action] + \\\n",
    "                                    lr * (reward + dr * (np.max(q_table[next_state]))- q_table[state, action])\n",
    "            step +=1\n",
    "            state = next_state\n",
    "\n",
    "            if done:\n",
    "                break\n",
    "#                 print(f'Episode: {episode}, Step: {step}, Reward: {reward} Done: {done}')\n",
    "        #update epsilon\n",
    "        epsilon = min_epsilon + (max_epsilon - min_epsilon) * np.exp(-decay_rate * episode)\n",
    "        #append each episode's reward to a list\n",
    "        reward_for_all_episodes.append(total_reward)\n",
    "\n",
    "    average_reward = np.split(np.array(reward_for_all_episodes),total_episodes/1000)\n",
    "    count = 0\n",
    "    print(f'\\nLearning rate: {lr}, Discount Rate: {dr}\\n')\n",
    "    for i in average_reward:\n",
    "        count += i.shape[0]\n",
    "        print(f'{count}: {sum(i) / i.shape[0]}')\n",
    "    final_result.extend([[episode, lr, dr, sum(reward_for_all_episodes)]])\n",
    "\n",
    "#     compare which combination of learning rate and gamma has the largest total reward,\n",
    "#     save the final q_table to q_table_actual\n",
    "    if check == []:\n",
    "        check = [sum(reward_for_all_episodes)]\n",
    "        q_table_actual = q_table\n",
    "    else:\n",
    "        if sum(reward_for_all_episodes) > check[0]:\n",
    "            check = [sum(reward_for_all_episodes)]\n",
    "            q_table_actual = q_table"
   ]
  },
  {
   "cell_type": "code",
   "execution_count": 8,
   "metadata": {},
   "outputs": [],
   "source": [
    "#save the result to a dataframe\n",
    "final_result_df = pd.DataFrame(final_result, columns = ['Episode', 'Learning Rate', 'Discount Rate', 'Total Rewards'])"
   ]
  },
  {
   "cell_type": "code",
   "execution_count": 9,
   "metadata": {},
   "outputs": [
    {
     "data": {
      "text/html": [
       "<div>\n",
       "<style scoped>\n",
       "    .dataframe tbody tr th:only-of-type {\n",
       "        vertical-align: middle;\n",
       "    }\n",
       "\n",
       "    .dataframe tbody tr th {\n",
       "        vertical-align: top;\n",
       "    }\n",
       "\n",
       "    .dataframe thead th {\n",
       "        text-align: right;\n",
       "    }\n",
       "</style>\n",
       "<table border=\"1\" class=\"dataframe\">\n",
       "  <thead>\n",
       "    <tr style=\"text-align: right;\">\n",
       "      <th></th>\n",
       "      <th>Episode</th>\n",
       "      <th>Learning Rate</th>\n",
       "      <th>Discount Rate</th>\n",
       "      <th>Total Rewards</th>\n",
       "    </tr>\n",
       "  </thead>\n",
       "  <tbody>\n",
       "    <tr>\n",
       "      <th>0</th>\n",
       "      <td>9999</td>\n",
       "      <td>0.1</td>\n",
       "      <td>0.99</td>\n",
       "      <td>5644.0</td>\n",
       "    </tr>\n",
       "  </tbody>\n",
       "</table>\n",
       "</div>"
      ],
      "text/plain": [
       "   Episode  Learning Rate  Discount Rate  Total Rewards\n",
       "0     9999            0.1           0.99         5644.0"
      ]
     },
     "execution_count": 9,
     "metadata": {},
     "output_type": "execute_result"
    }
   ],
   "source": [
    "#best combination\n",
    "final_result_df[final_result_df['Total Rewards'] == final_result_df['Total Rewards'].max()]\n"
   ]
  },
  {
   "cell_type": "code",
   "execution_count": 10,
   "metadata": {},
   "outputs": [
    {
     "data": {
      "image/png": "[encoded data removed]",
      "text/plain": [
       "<Figure size 720x576 with 1 Axes>"
      ]
     },
     "metadata": {
      "needs_background": "light"
     },
     "output_type": "display_data"
    }
   ],
   "source": [
    "#plot graph\n",
    "final_result_df['Combination'] =  list(zip(final_result_df['Learning Rate'], final_result_df['Discount Rate']))\n",
    "plt.figure(figsize = (10,8))\n",
    "ax = plt.axes()\n",
    "ax = sns.barplot(final_result_df['Combination'], final_result_df['Total Rewards'])\n",
    "ax.set_xticklabels(ax.get_xticklabels(), rotation = 30)\n",
    "plt.show()"
   ]
  },
  {
   "cell_type": "code",
   "execution_count": 11,
   "metadata": {},
   "outputs": [
    {
     "data": {
      "text/plain": [
       "[5644.0]"
      ]
     },
     "execution_count": 11,
     "metadata": {},
     "output_type": "execute_result"
    }
   ],
   "source": [
    "check"
   ]
  },
  {
   "cell_type": "code",
   "execution_count": 12,
   "metadata": {},
   "outputs": [
    {
     "data": {
      "text/html": [
       "<style  type=\"text/css\" >\n",
       "    #T_6eaa1832_c49c_11e9_a565_80e6500284d8row0_col0 {\n",
       "            background-color: yellow;\n",
       "        }    #T_6eaa1832_c49c_11e9_a565_80e6500284d8row0_col1 {\n",
       "            background-color: yellow;\n",
       "        }    #T_6eaa1832_c49c_11e9_a565_80e6500284d8row0_col2 {\n",
       "            background-color: yellow;\n",
       "        }    #T_6eaa1832_c49c_11e9_a565_80e6500284d8row0_col3 {\n",
       "            background-color: yellow;\n",
       "        }    #T_6eaa1832_c49c_11e9_a565_80e6500284d8row1_col0 {\n",
       "            background-color: yellow;\n",
       "        }    #T_6eaa1832_c49c_11e9_a565_80e6500284d8row1_col1 {\n",
       "            background-color: yellow;\n",
       "        }    #T_6eaa1832_c49c_11e9_a565_80e6500284d8row1_col2 {\n",
       "            background-color: yellow;\n",
       "        }    #T_6eaa1832_c49c_11e9_a565_80e6500284d8row1_col3 {\n",
       "            background-color: yellow;\n",
       "        }    #T_6eaa1832_c49c_11e9_a565_80e6500284d8row2_col0 {\n",
       "            background-color: yellow;\n",
       "        }    #T_6eaa1832_c49c_11e9_a565_80e6500284d8row2_col1 {\n",
       "            background-color: yellow;\n",
       "        }    #T_6eaa1832_c49c_11e9_a565_80e6500284d8row2_col2 {\n",
       "            background-color: yellow;\n",
       "        }    #T_6eaa1832_c49c_11e9_a565_80e6500284d8row2_col3 {\n",
       "            background-color: yellow;\n",
       "        }    #T_6eaa1832_c49c_11e9_a565_80e6500284d8row3_col0 {\n",
       "            background-color: yellow;\n",
       "        }    #T_6eaa1832_c49c_11e9_a565_80e6500284d8row3_col1 {\n",
       "            background-color: yellow;\n",
       "        }    #T_6eaa1832_c49c_11e9_a565_80e6500284d8row3_col2 {\n",
       "            background-color: yellow;\n",
       "        }    #T_6eaa1832_c49c_11e9_a565_80e6500284d8row3_col3 {\n",
       "            background-color: yellow;\n",
       "        }    #T_6eaa1832_c49c_11e9_a565_80e6500284d8row4_col0 {\n",
       "            background-color: yellow;\n",
       "        }    #T_6eaa1832_c49c_11e9_a565_80e6500284d8row4_col1 {\n",
       "            background-color: yellow;\n",
       "        }    #T_6eaa1832_c49c_11e9_a565_80e6500284d8row4_col2 {\n",
       "            background-color: yellow;\n",
       "        }    #T_6eaa1832_c49c_11e9_a565_80e6500284d8row4_col3 {\n",
       "            background-color: yellow;\n",
       "        }    #T_6eaa1832_c49c_11e9_a565_80e6500284d8row6_col0 {\n",
       "            background-color: yellow;\n",
       "        }    #T_6eaa1832_c49c_11e9_a565_80e6500284d8row6_col1 {\n",
       "            background-color: yellow;\n",
       "        }    #T_6eaa1832_c49c_11e9_a565_80e6500284d8row6_col2 {\n",
       "            background-color: yellow;\n",
       "        }    #T_6eaa1832_c49c_11e9_a565_80e6500284d8row6_col3 {\n",
       "            background-color: yellow;\n",
       "        }    #T_6eaa1832_c49c_11e9_a565_80e6500284d8row8_col0 {\n",
       "            background-color: yellow;\n",
       "        }    #T_6eaa1832_c49c_11e9_a565_80e6500284d8row8_col1 {\n",
       "            background-color: yellow;\n",
       "        }    #T_6eaa1832_c49c_11e9_a565_80e6500284d8row8_col2 {\n",
       "            background-color: yellow;\n",
       "        }    #T_6eaa1832_c49c_11e9_a565_80e6500284d8row8_col3 {\n",
       "            background-color: yellow;\n",
       "        }    #T_6eaa1832_c49c_11e9_a565_80e6500284d8row9_col0 {\n",
       "            background-color: yellow;\n",
       "        }    #T_6eaa1832_c49c_11e9_a565_80e6500284d8row9_col1 {\n",
       "            background-color: yellow;\n",
       "        }    #T_6eaa1832_c49c_11e9_a565_80e6500284d8row9_col2 {\n",
       "            background-color: yellow;\n",
       "        }    #T_6eaa1832_c49c_11e9_a565_80e6500284d8row9_col3 {\n",
       "            background-color: yellow;\n",
       "        }    #T_6eaa1832_c49c_11e9_a565_80e6500284d8row10_col0 {\n",
       "            background-color: yellow;\n",
       "        }    #T_6eaa1832_c49c_11e9_a565_80e6500284d8row10_col1 {\n",
       "            background-color: yellow;\n",
       "        }    #T_6eaa1832_c49c_11e9_a565_80e6500284d8row10_col2 {\n",
       "            background-color: yellow;\n",
       "        }    #T_6eaa1832_c49c_11e9_a565_80e6500284d8row10_col3 {\n",
       "            background-color: yellow;\n",
       "        }    #T_6eaa1832_c49c_11e9_a565_80e6500284d8row13_col0 {\n",
       "            background-color: yellow;\n",
       "        }    #T_6eaa1832_c49c_11e9_a565_80e6500284d8row13_col1 {\n",
       "            background-color: yellow;\n",
       "        }    #T_6eaa1832_c49c_11e9_a565_80e6500284d8row13_col2 {\n",
       "            background-color: yellow;\n",
       "        }    #T_6eaa1832_c49c_11e9_a565_80e6500284d8row13_col3 {\n",
       "            background-color: yellow;\n",
       "        }    #T_6eaa1832_c49c_11e9_a565_80e6500284d8row14_col0 {\n",
       "            background-color: yellow;\n",
       "        }    #T_6eaa1832_c49c_11e9_a565_80e6500284d8row14_col1 {\n",
       "            background-color: yellow;\n",
       "        }    #T_6eaa1832_c49c_11e9_a565_80e6500284d8row14_col2 {\n",
       "            background-color: yellow;\n",
       "        }    #T_6eaa1832_c49c_11e9_a565_80e6500284d8row14_col3 {\n",
       "            background-color: yellow;\n",
       "        }</style>  \n",
       "<table id=\"T_6eaa1832_c49c_11e9_a565_80e6500284d8\" > \n",
       "<thead>    <tr> \n",
       "        <th class=\"blank level0\" ></th> \n",
       "        <th class=\"col_heading level0 col0\" >0</th> \n",
       "        <th class=\"col_heading level0 col1\" >1</th> \n",
       "        <th class=\"col_heading level0 col2\" >2</th> \n",
       "        <th class=\"col_heading level0 col3\" >3</th> \n",
       "    </tr></thead> \n",
       "<tbody>    <tr> \n",
       "        <th id=\"T_6eaa1832_c49c_11e9_a565_80e6500284d8level0_row0\" class=\"row_heading level0 row0\" >0</th> \n",
       "        <td id=\"T_6eaa1832_c49c_11e9_a565_80e6500284d8row0_col0\" class=\"data row0 col0\" >0.525253</td> \n",
       "        <td id=\"T_6eaa1832_c49c_11e9_a565_80e6500284d8row0_col1\" class=\"data row0 col1\" >0.505232</td> \n",
       "        <td id=\"T_6eaa1832_c49c_11e9_a565_80e6500284d8row0_col2\" class=\"data row0 col2\" >0.509076</td> \n",
       "        <td id=\"T_6eaa1832_c49c_11e9_a565_80e6500284d8row0_col3\" class=\"data row0 col3\" >0.508116</td> \n",
       "    </tr>    <tr> \n",
       "        <th id=\"T_6eaa1832_c49c_11e9_a565_80e6500284d8level0_row1\" class=\"row_heading level0 row1\" >1</th> \n",
       "        <td id=\"T_6eaa1832_c49c_11e9_a565_80e6500284d8row1_col0\" class=\"data row1 col0\" >0.302791</td> \n",
       "        <td id=\"T_6eaa1832_c49c_11e9_a565_80e6500284d8row1_col1\" class=\"data row1 col1\" >0.260185</td> \n",
       "        <td id=\"T_6eaa1832_c49c_11e9_a565_80e6500284d8row1_col2\" class=\"data row1 col2\" >0.240496</td> \n",
       "        <td id=\"T_6eaa1832_c49c_11e9_a565_80e6500284d8row1_col3\" class=\"data row1 col3\" >0.48265</td> \n",
       "    </tr>    <tr> \n",
       "        <th id=\"T_6eaa1832_c49c_11e9_a565_80e6500284d8level0_row2\" class=\"row_heading level0 row2\" >2</th> \n",
       "        <td id=\"T_6eaa1832_c49c_11e9_a565_80e6500284d8row2_col0\" class=\"data row2 col0\" >0.411653</td> \n",
       "        <td id=\"T_6eaa1832_c49c_11e9_a565_80e6500284d8row2_col1\" class=\"data row2 col1\" >0.419758</td> \n",
       "        <td id=\"T_6eaa1832_c49c_11e9_a565_80e6500284d8row2_col2\" class=\"data row2 col2\" >0.39529</td> \n",
       "        <td id=\"T_6eaa1832_c49c_11e9_a565_80e6500284d8row2_col3\" class=\"data row2 col3\" >0.454881</td> \n",
       "    </tr>    <tr> \n",
       "        <th id=\"T_6eaa1832_c49c_11e9_a565_80e6500284d8level0_row3\" class=\"row_heading level0 row3\" >3</th> \n",
       "        <td id=\"T_6eaa1832_c49c_11e9_a565_80e6500284d8row3_col0\" class=\"data row3 col0\" >0.270988</td> \n",
       "        <td id=\"T_6eaa1832_c49c_11e9_a565_80e6500284d8row3_col1\" class=\"data row3 col1\" >0.297537</td> \n",
       "        <td id=\"T_6eaa1832_c49c_11e9_a565_80e6500284d8row3_col2\" class=\"data row3 col2\" >0.255334</td> \n",
       "        <td id=\"T_6eaa1832_c49c_11e9_a565_80e6500284d8row3_col3\" class=\"data row3 col3\" >0.441833</td> \n",
       "    </tr>    <tr> \n",
       "        <th id=\"T_6eaa1832_c49c_11e9_a565_80e6500284d8level0_row4\" class=\"row_heading level0 row4\" >4</th> \n",
       "        <td id=\"T_6eaa1832_c49c_11e9_a565_80e6500284d8row4_col0\" class=\"data row4 col0\" >0.537479</td> \n",
       "        <td id=\"T_6eaa1832_c49c_11e9_a565_80e6500284d8row4_col1\" class=\"data row4 col1\" >0.462423</td> \n",
       "        <td id=\"T_6eaa1832_c49c_11e9_a565_80e6500284d8row4_col2\" class=\"data row4 col2\" >0.422079</td> \n",
       "        <td id=\"T_6eaa1832_c49c_11e9_a565_80e6500284d8row4_col3\" class=\"data row4 col3\" >0.352166</td> \n",
       "    </tr>    <tr> \n",
       "        <th id=\"T_6eaa1832_c49c_11e9_a565_80e6500284d8level0_row5\" class=\"row_heading level0 row5\" >5</th> \n",
       "        <td id=\"T_6eaa1832_c49c_11e9_a565_80e6500284d8row5_col0\" class=\"data row5 col0\" >0</td> \n",
       "        <td id=\"T_6eaa1832_c49c_11e9_a565_80e6500284d8row5_col1\" class=\"data row5 col1\" >0</td> \n",
       "        <td id=\"T_6eaa1832_c49c_11e9_a565_80e6500284d8row5_col2\" class=\"data row5 col2\" >0</td> \n",
       "        <td id=\"T_6eaa1832_c49c_11e9_a565_80e6500284d8row5_col3\" class=\"data row5 col3\" >0</td> \n",
       "    </tr>    <tr> \n",
       "        <th id=\"T_6eaa1832_c49c_11e9_a565_80e6500284d8level0_row6\" class=\"row_heading level0 row6\" >6</th> \n",
       "        <td id=\"T_6eaa1832_c49c_11e9_a565_80e6500284d8row6_col0\" class=\"data row6 col0\" >0.192231</td> \n",
       "        <td id=\"T_6eaa1832_c49c_11e9_a565_80e6500284d8row6_col1\" class=\"data row6 col1\" >0.193258</td> \n",
       "        <td id=\"T_6eaa1832_c49c_11e9_a565_80e6500284d8row6_col2\" class=\"data row6 col2\" >0.392947</td> \n",
       "        <td id=\"T_6eaa1832_c49c_11e9_a565_80e6500284d8row6_col3\" class=\"data row6 col3\" >0.0968046</td> \n",
       "    </tr>    <tr> \n",
       "        <th id=\"T_6eaa1832_c49c_11e9_a565_80e6500284d8level0_row7\" class=\"row_heading level0 row7\" >7</th> \n",
       "        <td id=\"T_6eaa1832_c49c_11e9_a565_80e6500284d8row7_col0\" class=\"data row7 col0\" >0</td> \n",
       "        <td id=\"T_6eaa1832_c49c_11e9_a565_80e6500284d8row7_col1\" class=\"data row7 col1\" >0</td> \n",
       "        <td id=\"T_6eaa1832_c49c_11e9_a565_80e6500284d8row7_col2\" class=\"data row7 col2\" >0</td> \n",
       "        <td id=\"T_6eaa1832_c49c_11e9_a565_80e6500284d8row7_col3\" class=\"data row7 col3\" >0</td> \n",
       "    </tr>    <tr> \n",
       "        <th id=\"T_6eaa1832_c49c_11e9_a565_80e6500284d8level0_row8\" class=\"row_heading level0 row8\" >8</th> \n",
       "        <td id=\"T_6eaa1832_c49c_11e9_a565_80e6500284d8row8_col0\" class=\"data row8 col0\" >0.359526</td> \n",
       "        <td id=\"T_6eaa1832_c49c_11e9_a565_80e6500284d8row8_col1\" class=\"data row8 col1\" >0.476225</td> \n",
       "        <td id=\"T_6eaa1832_c49c_11e9_a565_80e6500284d8row8_col2\" class=\"data row8 col2\" >0.343846</td> \n",
       "        <td id=\"T_6eaa1832_c49c_11e9_a565_80e6500284d8row8_col3\" class=\"data row8 col3\" >0.571878</td> \n",
       "    </tr>    <tr> \n",
       "        <th id=\"T_6eaa1832_c49c_11e9_a565_80e6500284d8level0_row9\" class=\"row_heading level0 row9\" >9</th> \n",
       "        <td id=\"T_6eaa1832_c49c_11e9_a565_80e6500284d8row9_col0\" class=\"data row9 col0\" >0.342248</td> \n",
       "        <td id=\"T_6eaa1832_c49c_11e9_a565_80e6500284d8row9_col1\" class=\"data row9 col1\" >0.631312</td> \n",
       "        <td id=\"T_6eaa1832_c49c_11e9_a565_80e6500284d8row9_col2\" class=\"data row9 col2\" >0.418071</td> \n",
       "        <td id=\"T_6eaa1832_c49c_11e9_a565_80e6500284d8row9_col3\" class=\"data row9 col3\" >0.329407</td> \n",
       "    </tr>    <tr> \n",
       "        <th id=\"T_6eaa1832_c49c_11e9_a565_80e6500284d8level0_row10\" class=\"row_heading level0 row10\" >10</th> \n",
       "        <td id=\"T_6eaa1832_c49c_11e9_a565_80e6500284d8row10_col0\" class=\"data row10 col0\" >0.566319</td> \n",
       "        <td id=\"T_6eaa1832_c49c_11e9_a565_80e6500284d8row10_col1\" class=\"data row10 col1\" >0.466897</td> \n",
       "        <td id=\"T_6eaa1832_c49c_11e9_a565_80e6500284d8row10_col2\" class=\"data row10 col2\" >0.30866</td> \n",
       "        <td id=\"T_6eaa1832_c49c_11e9_a565_80e6500284d8row10_col3\" class=\"data row10 col3\" >0.241246</td> \n",
       "    </tr>    <tr> \n",
       "        <th id=\"T_6eaa1832_c49c_11e9_a565_80e6500284d8level0_row11\" class=\"row_heading level0 row11\" >11</th> \n",
       "        <td id=\"T_6eaa1832_c49c_11e9_a565_80e6500284d8row11_col0\" class=\"data row11 col0\" >0</td> \n",
       "        <td id=\"T_6eaa1832_c49c_11e9_a565_80e6500284d8row11_col1\" class=\"data row11 col1\" >0</td> \n",
       "        <td id=\"T_6eaa1832_c49c_11e9_a565_80e6500284d8row11_col2\" class=\"data row11 col2\" >0</td> \n",
       "        <td id=\"T_6eaa1832_c49c_11e9_a565_80e6500284d8row11_col3\" class=\"data row11 col3\" >0</td> \n",
       "    </tr>    <tr> \n",
       "        <th id=\"T_6eaa1832_c49c_11e9_a565_80e6500284d8level0_row12\" class=\"row_heading level0 row12\" >12</th> \n",
       "        <td id=\"T_6eaa1832_c49c_11e9_a565_80e6500284d8row12_col0\" class=\"data row12 col0\" >0</td> \n",
       "        <td id=\"T_6eaa1832_c49c_11e9_a565_80e6500284d8row12_col1\" class=\"data row12 col1\" >0</td> \n",
       "        <td id=\"T_6eaa1832_c49c_11e9_a565_80e6500284d8row12_col2\" class=\"data row12 col2\" >0</td> \n",
       "        <td id=\"T_6eaa1832_c49c_11e9_a565_80e6500284d8row12_col3\" class=\"data row12 col3\" >0</td> \n",
       "    </tr>    <tr> \n",
       "        <th id=\"T_6eaa1832_c49c_11e9_a565_80e6500284d8level0_row13\" class=\"row_heading level0 row13\" >13</th> \n",
       "        <td id=\"T_6eaa1832_c49c_11e9_a565_80e6500284d8row13_col0\" class=\"data row13 col0\" >0.533313</td> \n",
       "        <td id=\"T_6eaa1832_c49c_11e9_a565_80e6500284d8row13_col1\" class=\"data row13 col1\" >0.585493</td> \n",
       "        <td id=\"T_6eaa1832_c49c_11e9_a565_80e6500284d8row13_col2\" class=\"data row13 col2\" >0.734751</td> \n",
       "        <td id=\"T_6eaa1832_c49c_11e9_a565_80e6500284d8row13_col3\" class=\"data row13 col3\" >0.468453</td> \n",
       "    </tr>    <tr> \n",
       "        <th id=\"T_6eaa1832_c49c_11e9_a565_80e6500284d8level0_row14\" class=\"row_heading level0 row14\" >14</th> \n",
       "        <td id=\"T_6eaa1832_c49c_11e9_a565_80e6500284d8row14_col0\" class=\"data row14 col0\" >0.733913</td> \n",
       "        <td id=\"T_6eaa1832_c49c_11e9_a565_80e6500284d8row14_col1\" class=\"data row14 col1\" >0.847519</td> \n",
       "        <td id=\"T_6eaa1832_c49c_11e9_a565_80e6500284d8row14_col2\" class=\"data row14 col2\" >0.740441</td> \n",
       "        <td id=\"T_6eaa1832_c49c_11e9_a565_80e6500284d8row14_col3\" class=\"data row14 col3\" >0.698554</td> \n",
       "    </tr>    <tr> \n",
       "        <th id=\"T_6eaa1832_c49c_11e9_a565_80e6500284d8level0_row15\" class=\"row_heading level0 row15\" >15</th> \n",
       "        <td id=\"T_6eaa1832_c49c_11e9_a565_80e6500284d8row15_col0\" class=\"data row15 col0\" >0</td> \n",
       "        <td id=\"T_6eaa1832_c49c_11e9_a565_80e6500284d8row15_col1\" class=\"data row15 col1\" >0</td> \n",
       "        <td id=\"T_6eaa1832_c49c_11e9_a565_80e6500284d8row15_col2\" class=\"data row15 col2\" >0</td> \n",
       "        <td id=\"T_6eaa1832_c49c_11e9_a565_80e6500284d8row15_col3\" class=\"data row15 col3\" >0</td> \n",
       "    </tr></tbody> \n",
       "</table> "
      ],
      "text/plain": [
       "<pandas.io.formats.style.Styler at 0x1a20eb7c18>"
      ]
     },
     "execution_count": 12,
     "metadata": {},
     "output_type": "execute_result"
    }
   ],
   "source": [
    "q_dataframe = pd.DataFrame(q_table_actual)\n",
    "q_dataframe.style.applymap(lambda x:'background-color:yellow' if x != 0 else '')"
   ]
  },
  {
   "cell_type": "code",
   "execution_count": 13,
   "metadata": {},
   "outputs": [
    {
     "data": {
      "text/plain": [
       "array([[0.52525345, 0.50523217, 0.50907581, 0.50811623],\n",
       "       [0.30279071, 0.26018459, 0.24049645, 0.48264978],\n",
       "       [0.41165287, 0.41975814, 0.39528957, 0.45488077],\n",
       "       [0.27098841, 0.297537  , 0.25533433, 0.44183321],\n",
       "       [0.53747857, 0.46242314, 0.42207916, 0.35216562],\n",
       "       [0.        , 0.        , 0.        , 0.        ],\n",
       "       [0.19223129, 0.19325753, 0.39294741, 0.09680458],\n",
       "       [0.        , 0.        , 0.        , 0.        ],\n",
       "       [0.35952556, 0.4762252 , 0.34384621, 0.57187794],\n",
       "       [0.34224798, 0.63131249, 0.41807068, 0.32940734],\n",
       "       [0.56631858, 0.4668969 , 0.30865992, 0.2412464 ],\n",
       "       [0.        , 0.        , 0.        , 0.        ],\n",
       "       [0.        , 0.        , 0.        , 0.        ],\n",
       "       [0.53331344, 0.58549323, 0.73475139, 0.4684526 ],\n",
       "       [0.7339133 , 0.84751941, 0.740441  , 0.69855399],\n",
       "       [0.        , 0.        , 0.        , 0.        ]])"
      ]
     },
     "execution_count": 13,
     "metadata": {},
     "output_type": "execute_result"
    }
   ],
   "source": [
    "q_table"
   ]
  },
  {
   "cell_type": "code",
   "execution_count": 14,
   "metadata": {},
   "outputs": [
    {
     "name": "stdout",
     "output_type": "stream",
     "text": [
      "Game: 10, Step: 52, Reward: 1.0\n",
      "\n",
      "  (Down)\n",
      "SFFF\n",
      "FHFH\n",
      "FFFH\n",
      "HFF\u001b[41mG\u001b[0m\n",
      "\n",
      "Total Game: 10\n",
      "Win: 9\n",
      "Lose: 1\n",
      "Average Steps: 36.888888888888886\n"
     ]
    }
   ],
   "source": [
    "#play the game\n",
    "%time\n",
    "Win = 0\n",
    "Lose = 0\n",
    "average_step = []\n",
    "for episode in range(total_test_episodes):\n",
    "    state = env.reset()\n",
    "    done = False\n",
    "    step_episode = 0\n",
    "    for step in range(max_steps):\n",
    "        action = np.argmax(q_table_actual[state])\n",
    "        next_state, reward, done, info = env.step(action)\n",
    "        clear_output(wait = True)\n",
    "        print(f'Game: {episode + 1}, Step: {step}, Reward: {reward}\\n')\n",
    "        print(env.render(mode = 'ansi'))\n",
    "        sleep(0.5)\n",
    "        state = next_state\n",
    "        step_episode += 1\n",
    "        if done:\n",
    "            if reward == 1:\n",
    "                Win +=1\n",
    "                average_step.append(step_episode)\n",
    "            else:\n",
    "                Lose +=1\n",
    "            break\n",
    "    sleep(2)\n",
    "print(f'Total Game: {total_test_episodes}\\nWin: {Win}\\nLose: {Lose}\\nAverage Steps: {sum(average_step)/Win}')"
   ]
  },
  {
   "cell_type": "code",
   "execution_count": null,
   "metadata": {},
   "outputs": [],
   "source": []
  }
 ],
 "metadata": {
  "kernelspec": {
   "display_name": "Python 3",
   "language": "python",
   "name": "python3"
  },
  "language_info": {
   "codemirror_mode": {
    "name": "ipython",
    "version": 3
   },
   "file_extension": ".py",
   "mimetype": "text/x-python",
   "name": "python",
   "nbconvert_exporter": "python",
   "pygments_lexer": "ipython3",
   "version": "3.7.1"
  }
 },
 "nbformat": 4,
 "nbformat_minor": 2
}
